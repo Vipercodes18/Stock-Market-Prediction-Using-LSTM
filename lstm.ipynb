{
 "cells": [
  {
   "cell_type": "code",
   "execution_count": 1,
   "id": "d868330f",
   "metadata": {},
   "outputs": [],
   "source": [
    "import numpy as np\n",
    "import pandas as pd\n",
    "import matplotlib.pyplot as plt\n",
    "from sklearn.preprocessing import MinMaxScaler\n",
    "from keras.models import Sequential\n",
    "from keras.layers import Dense, LSTM, Dropout\n",
    "from tensorflow.keras.callbacks import EarlyStopping\n"
   ]
  },
  {
   "cell_type": "code",
   "execution_count": 2,
   "id": "02a374f3",
   "metadata": {},
   "outputs": [
    {
     "data": {
      "text/html": [
       "<div>\n",
       "<style scoped>\n",
       "    .dataframe tbody tr th:only-of-type {\n",
       "        vertical-align: middle;\n",
       "    }\n",
       "\n",
       "    .dataframe tbody tr th {\n",
       "        vertical-align: top;\n",
       "    }\n",
       "\n",
       "    .dataframe thead th {\n",
       "        text-align: right;\n",
       "    }\n",
       "</style>\n",
       "<table border=\"1\" class=\"dataframe\">\n",
       "  <thead>\n",
       "    <tr style=\"text-align: right;\">\n",
       "      <th></th>\n",
       "      <th>Date</th>\n",
       "      <th>Open</th>\n",
       "      <th>High</th>\n",
       "      <th>Low</th>\n",
       "      <th>Close</th>\n",
       "      <th>Volume</th>\n",
       "    </tr>\n",
       "  </thead>\n",
       "  <tbody>\n",
       "    <tr>\n",
       "      <th>0</th>\n",
       "      <td>03-01-2000</td>\n",
       "      <td>207.4</td>\n",
       "      <td>217.25</td>\n",
       "      <td>207.4</td>\n",
       "      <td>216.75</td>\n",
       "      <td>676126</td>\n",
       "    </tr>\n",
       "    <tr>\n",
       "      <th>1</th>\n",
       "      <td>04-01-2000</td>\n",
       "      <td>217.0</td>\n",
       "      <td>219.00</td>\n",
       "      <td>206.0</td>\n",
       "      <td>208.20</td>\n",
       "      <td>679215</td>\n",
       "    </tr>\n",
       "    <tr>\n",
       "      <th>2</th>\n",
       "      <td>05-01-2000</td>\n",
       "      <td>194.0</td>\n",
       "      <td>217.80</td>\n",
       "      <td>194.0</td>\n",
       "      <td>213.25</td>\n",
       "      <td>1120951</td>\n",
       "    </tr>\n",
       "    <tr>\n",
       "      <th>3</th>\n",
       "      <td>06-01-2000</td>\n",
       "      <td>215.0</td>\n",
       "      <td>229.90</td>\n",
       "      <td>215.0</td>\n",
       "      <td>222.10</td>\n",
       "      <td>1968998</td>\n",
       "    </tr>\n",
       "    <tr>\n",
       "      <th>4</th>\n",
       "      <td>07-01-2000</td>\n",
       "      <td>224.0</td>\n",
       "      <td>239.90</td>\n",
       "      <td>223.1</td>\n",
       "      <td>239.90</td>\n",
       "      <td>2199431</td>\n",
       "    </tr>\n",
       "  </tbody>\n",
       "</table>\n",
       "</div>"
      ],
      "text/plain": [
       "         Date   Open    High    Low   Close   Volume\n",
       "0  03-01-2000  207.4  217.25  207.4  216.75   676126\n",
       "1  04-01-2000  217.0  219.00  206.0  208.20   679215\n",
       "2  05-01-2000  194.0  217.80  194.0  213.25  1120951\n",
       "3  06-01-2000  215.0  229.90  215.0  222.10  1968998\n",
       "4  07-01-2000  224.0  239.90  223.1  239.90  2199431"
      ]
     },
     "execution_count": 2,
     "metadata": {},
     "output_type": "execute_result"
    }
   ],
   "source": [
    "data=pd.read_csv('tata motors train data.csv')\n",
    "data.head()"
   ]
  },
  {
   "cell_type": "code",
   "execution_count": 5,
   "id": "25653fba",
   "metadata": {},
   "outputs": [
    {
     "name": "stdout",
     "output_type": "stream",
     "text": [
      "<class 'pandas.core.frame.DataFrame'>\n",
      "RangeIndex: 3714 entries, 0 to 3713\n",
      "Data columns (total 6 columns):\n",
      " #   Column  Non-Null Count  Dtype  \n",
      "---  ------  --------------  -----  \n",
      " 0   Date    3714 non-null   object \n",
      " 1   Open    3714 non-null   float64\n",
      " 2   High    3714 non-null   float64\n",
      " 3   Low     3714 non-null   float64\n",
      " 4   Close   3714 non-null   float64\n",
      " 5   Volume  3714 non-null   int64  \n",
      "dtypes: float64(4), int64(1), object(1)\n",
      "memory usage: 174.2+ KB\n"
     ]
    }
   ],
   "source": [
    "data.info()"
   ]
  },
  {
   "cell_type": "code",
   "execution_count": 6,
   "id": "bd5fc1ca",
   "metadata": {},
   "outputs": [
    {
     "data": {
      "text/plain": [
       "(3714, 6)"
      ]
     },
     "execution_count": 6,
     "metadata": {},
     "output_type": "execute_result"
    }
   ],
   "source": [
    "data.shape"
   ]
  },
  {
   "cell_type": "code",
   "execution_count": 7,
   "id": "2c70fab8",
   "metadata": {},
   "outputs": [],
   "source": [
    "data=data.dropna()\n",
    "trainData = data.iloc[:,4:5].values"
   ]
  },
  {
   "cell_type": "code",
   "execution_count": 8,
   "id": "8cdef0fd",
   "metadata": {},
   "outputs": [],
   "source": [
    "sc=MinMaxScaler (feature_range=(0,1))\n",
    "trainData = sc.fit_transform(trainData)"
   ]
  },
  {
   "cell_type": "code",
   "execution_count": 9,
   "id": "f968018d",
   "metadata": {},
   "outputs": [
    {
     "data": {
      "text/plain": [
       "(3714, 1)"
      ]
     },
     "execution_count": 9,
     "metadata": {},
     "output_type": "execute_result"
    }
   ],
   "source": [
    "trainData.shape"
   ]
  },
  {
   "cell_type": "code",
   "execution_count": 10,
   "id": "70dae639",
   "metadata": {},
   "outputs": [
    {
     "data": {
      "text/plain": [
       "(3654, 60)"
      ]
     },
     "execution_count": 10,
     "metadata": {},
     "output_type": "execute_result"
    }
   ],
   "source": [
    "X_train =[]\n",
    "y_train= []\n",
    "for i in range (60,3714): #60 timestep // 1149 Length of the data\n",
    "    X_train.append(trainData[i-60:i, 0])\n",
    "    y_train.append(trainData[i,0])\n",
    "    \n",
    "X_train,y_train=np.array(X_train), np.array(y_train)\n",
    "X_train.shape"
   ]
  },
  {
   "cell_type": "code",
   "execution_count": 11,
   "id": "df3d3cae",
   "metadata": {},
   "outputs": [
    {
     "data": {
      "text/plain": [
       "(3654, 60, 1)"
      ]
     },
     "execution_count": 11,
     "metadata": {},
     "output_type": "execute_result"
    }
   ],
   "source": [
    "X_train = np.reshape (X_train, (X_train.shape[0],X_train.shape[1], 1)) #adding the batch_size axis\n",
    "X_train.shape"
   ]
  },
  {
   "cell_type": "code",
   "execution_count": 12,
   "id": "5a1ec710",
   "metadata": {},
   "outputs": [],
   "source": [
    "model = Sequential()\n",
    "\n",
    "model.add(LSTM (units=100, return_sequences = True, input_shape=(X_train.shape [1],1)))\n",
    "model.add(Dropout(0.2))\n",
    "\n",
    "model.add(LSTM (units=100, return_sequences = True))\n",
    "model.add(Dropout(0.2))\n",
    "\n",
    "model.add(LSTM (units=100, return_sequences = True))\n",
    "model.add(Dropout (0.2))\n",
    "\n",
    "model.add(LSTM (units=100, return_sequences = False))\n",
    "model.add(Dropout(0.2))\n",
    "\n",
    "model.add(Dense(units = 1))\n",
    "model.compile (optimizer='adam', loss=\"mean_squared_error\")"
   ]
  },
  {
   "cell_type": "code",
   "execution_count": 12,
   "id": "c9ace5b9",
   "metadata": {},
   "outputs": [
    {
     "name": "stdout",
     "output_type": "stream",
     "text": [
      "Epoch 1/20\n",
      "115/115 - 20s - loss: 0.0082 - 20s/epoch - 177ms/step\n",
      "Epoch 2/20\n",
      "115/115 - 15s - loss: 0.0027 - 15s/epoch - 134ms/step\n",
      "Epoch 3/20\n",
      "115/115 - 18s - loss: 0.0023 - 18s/epoch - 154ms/step\n",
      "Epoch 4/20\n",
      "115/115 - 16s - loss: 0.0019 - 16s/epoch - 136ms/step\n",
      "Epoch 5/20\n",
      "115/115 - 16s - loss: 0.0019 - 16s/epoch - 143ms/step\n",
      "Epoch 6/20\n",
      "115/115 - 16s - loss: 0.0016 - 16s/epoch - 139ms/step\n",
      "Epoch 7/20\n",
      "115/115 - 17s - loss: 0.0017 - 17s/epoch - 144ms/step\n",
      "Epoch 8/20\n",
      "115/115 - 17s - loss: 0.0014 - 17s/epoch - 148ms/step\n",
      "Epoch 9/20\n",
      "115/115 - 17s - loss: 0.0013 - 17s/epoch - 145ms/step\n",
      "Epoch 10/20\n",
      "115/115 - 18s - loss: 0.0014 - 18s/epoch - 155ms/step\n",
      "Epoch 11/20\n",
      "115/115 - 17s - loss: 0.0012 - 17s/epoch - 147ms/step\n",
      "Epoch 12/20\n",
      "115/115 - 18s - loss: 0.0013 - 18s/epoch - 154ms/step\n",
      "Epoch 13/20\n",
      "115/115 - 19s - loss: 0.0011 - 19s/epoch - 167ms/step\n",
      "Epoch 14/20\n",
      "115/115 - 19s - loss: 0.0010 - 19s/epoch - 167ms/step\n",
      "Epoch 15/20\n",
      "115/115 - 19s - loss: 0.0011 - 19s/epoch - 166ms/step\n",
      "Epoch 16/20\n",
      "115/115 - 17s - loss: 0.0012 - 17s/epoch - 152ms/step\n",
      "Epoch 17/20\n",
      "115/115 - 19s - loss: 9.4076e-04 - 19s/epoch - 168ms/step\n",
      "Epoch 18/20\n",
      "115/115 - 18s - loss: 0.0010 - 18s/epoch - 159ms/step\n",
      "Epoch 19/20\n",
      "115/115 - 19s - loss: 0.0011 - 19s/epoch - 162ms/step\n",
      "Epoch 20/20\n",
      "115/115 - 18s - loss: 8.8725e-04 - 18s/epoch - 158ms/step\n"
     ]
    }
   ],
   "source": [
    "hist=model.fit(X_train,y_train,epochs=20,batch_size=32,verbose=2)"
   ]
  },
  {
   "cell_type": "code",
   "execution_count": 15,
   "id": "4cfd04bf",
   "metadata": {},
   "outputs": [
    {
     "ename": "NameError",
     "evalue": "name 'history' is not defined",
     "output_type": "error",
     "traceback": [
      "\u001b[1;31m---------------------------------------------------------------------------\u001b[0m",
      "\u001b[1;31mNameError\u001b[0m                                 Traceback (most recent call last)",
      "Input \u001b[1;32mIn [15]\u001b[0m, in \u001b[0;36m<cell line: 1>\u001b[1;34m()\u001b[0m\n\u001b[1;32m----> 1\u001b[0m plt\u001b[38;5;241m.\u001b[39mplot(\u001b[43mhistory\u001b[49m[\u001b[38;5;124m'\u001b[39m\u001b[38;5;124mloss\u001b[39m\u001b[38;5;124m'\u001b[39m])\n\u001b[0;32m      2\u001b[0m plt\u001b[38;5;241m.\u001b[39mtitle(\u001b[38;5;124m'\u001b[39m\u001b[38;5;124mtraining model loss\u001b[39m\u001b[38;5;124m'\u001b[39m)\n\u001b[0;32m      3\u001b[0m plt\u001b[38;5;241m.\u001b[39mrcParams[\u001b[38;5;124m\"\u001b[39m\u001b[38;5;124mfigure.figsize\u001b[39m\u001b[38;5;124m\"\u001b[39m]\u001b[38;5;241m=\u001b[39m(\u001b[38;5;241m8\u001b[39m,\u001b[38;5;241m5\u001b[39m)\n",
      "\u001b[1;31mNameError\u001b[0m: name 'history' is not defined"
     ]
    }
   ],
   "source": [
    "plt.plot(hist.history['loss'])\n",
    "plt.title('training model loss')\n",
    "plt.rcParams[\"figure.figsize\"]=(8,5)\n",
    "plt.ylabel('loss')\n",
    "plt.xlabel('epoch')\n",
    "plt.legend(['train'],loc='upper left')\n",
    "plt.show()"
   ]
  },
  {
   "cell_type": "code",
   "execution_count": 18,
   "id": "dfcada0f",
   "metadata": {},
   "outputs": [
    {
     "name": "stdout",
     "output_type": "stream",
     "text": [
      "Epoch 1/50\n",
      "115/115 - 18s - loss: 6.1751e-04 - 18s/epoch - 160ms/step\n",
      "Epoch 2/50\n",
      "115/115 - 18s - loss: 5.2550e-04 - 18s/epoch - 152ms/step\n",
      "Epoch 3/50\n",
      "115/115 - 18s - loss: 5.2199e-04 - 18s/epoch - 153ms/step\n",
      "Epoch 4/50\n",
      "115/115 - 18s - loss: 5.6792e-04 - 18s/epoch - 155ms/step\n",
      "Epoch 5/50\n",
      "115/115 - 21s - loss: 5.0938e-04 - 21s/epoch - 182ms/step\n",
      "Epoch 6/50\n",
      "115/115 - 21s - loss: 5.5732e-04 - 21s/epoch - 187ms/step\n",
      "Epoch 7/50\n",
      "115/115 - 20s - loss: 6.5123e-04 - 20s/epoch - 176ms/step\n",
      "Epoch 8/50\n",
      "115/115 - 19s - loss: 4.9137e-04 - 19s/epoch - 169ms/step\n",
      "Epoch 9/50\n",
      "115/115 - 19s - loss: 5.2547e-04 - 19s/epoch - 163ms/step\n",
      "Epoch 10/50\n",
      "115/115 - 19s - loss: 5.2000e-04 - 19s/epoch - 162ms/step\n",
      "Epoch 11/50\n",
      "115/115 - 19s - loss: 5.0640e-04 - 19s/epoch - 168ms/step\n",
      "Epoch 12/50\n",
      "115/115 - 19s - loss: 5.0911e-04 - 19s/epoch - 161ms/step\n",
      "Epoch 13/50\n",
      "115/115 - 19s - loss: 5.4142e-04 - 19s/epoch - 164ms/step\n",
      "Epoch 14/50\n",
      "115/115 - 19s - loss: 4.9941e-04 - 19s/epoch - 168ms/step\n",
      "Epoch 15/50\n",
      "115/115 - 20s - loss: 4.9062e-04 - 20s/epoch - 170ms/step\n",
      "Epoch 16/50\n",
      "115/115 - 19s - loss: 5.4073e-04 - 19s/epoch - 166ms/step\n",
      "Epoch 17/50\n",
      "115/115 - 19s - loss: 4.8437e-04 - 19s/epoch - 167ms/step\n",
      "Epoch 18/50\n",
      "115/115 - 20s - loss: 5.7401e-04 - 20s/epoch - 176ms/step\n",
      "Epoch 19/50\n",
      "115/115 - 20s - loss: 5.0166e-04 - 20s/epoch - 170ms/step\n",
      "Epoch 20/50\n",
      "115/115 - 20s - loss: 5.1612e-04 - 20s/epoch - 171ms/step\n",
      "Epoch 21/50\n",
      "115/115 - 21s - loss: 5.0677e-04 - 21s/epoch - 179ms/step\n",
      "Epoch 22/50\n",
      "115/115 - 20s - loss: 4.6974e-04 - 20s/epoch - 170ms/step\n",
      "Epoch 23/50\n",
      "115/115 - 20s - loss: 5.2484e-04 - 20s/epoch - 171ms/step\n",
      "Epoch 24/50\n",
      "115/115 - 20s - loss: 5.5708e-04 - 20s/epoch - 171ms/step\n",
      "Epoch 25/50\n",
      "115/115 - 20s - loss: 4.9888e-04 - 20s/epoch - 172ms/step\n",
      "Epoch 26/50\n",
      "115/115 - 20s - loss: 6.2967e-04 - 20s/epoch - 175ms/step\n",
      "Epoch 27/50\n",
      "115/115 - 20s - loss: 5.2953e-04 - 20s/epoch - 175ms/step\n",
      "Epoch 28/50\n",
      "115/115 - 20s - loss: 5.1566e-04 - 20s/epoch - 174ms/step\n",
      "Epoch 29/50\n",
      "115/115 - 18s - loss: 5.4011e-04 - 18s/epoch - 159ms/step\n",
      "Epoch 30/50\n",
      "115/115 - 18s - loss: 4.8030e-04 - 18s/epoch - 155ms/step\n",
      "Epoch 31/50\n",
      "115/115 - 18s - loss: 4.5728e-04 - 18s/epoch - 154ms/step\n",
      "Epoch 32/50\n",
      "115/115 - 17s - loss: 5.0787e-04 - 17s/epoch - 152ms/step\n",
      "Epoch 33/50\n",
      "115/115 - 17s - loss: 5.2411e-04 - 17s/epoch - 152ms/step\n",
      "Epoch 34/50\n",
      "115/115 - 17s - loss: 4.8830e-04 - 17s/epoch - 151ms/step\n",
      "Epoch 35/50\n",
      "115/115 - 18s - loss: 4.7482e-04 - 18s/epoch - 157ms/step\n",
      "Epoch 36/50\n",
      "115/115 - 20s - loss: 5.0475e-04 - 20s/epoch - 176ms/step\n",
      "Epoch 37/50\n",
      "115/115 - 19s - loss: 5.0365e-04 - 19s/epoch - 166ms/step\n",
      "Epoch 38/50\n",
      "115/115 - 18s - loss: 4.7992e-04 - 18s/epoch - 155ms/step\n",
      "Epoch 39/50\n",
      "115/115 - 18s - loss: 5.4726e-04 - 18s/epoch - 158ms/step\n",
      "Epoch 40/50\n",
      "115/115 - 18s - loss: 5.2234e-04 - 18s/epoch - 158ms/step\n",
      "Epoch 41/50\n",
      "115/115 - 18s - loss: 4.8278e-04 - 18s/epoch - 158ms/step\n",
      "Epoch 42/50\n",
      "115/115 - 18s - loss: 5.1773e-04 - 18s/epoch - 156ms/step\n",
      "Epoch 43/50\n",
      "115/115 - 18s - loss: 5.1077e-04 - 18s/epoch - 160ms/step\n",
      "Epoch 44/50\n",
      "115/115 - 18s - loss: 4.8098e-04 - 18s/epoch - 159ms/step\n",
      "Epoch 45/50\n",
      "115/115 - 18s - loss: 5.3314e-04 - 18s/epoch - 159ms/step\n",
      "Epoch 46/50\n",
      "115/115 - 19s - loss: 4.8925e-04 - 19s/epoch - 164ms/step\n",
      "Epoch 47/50\n",
      "115/115 - 20s - loss: 4.8425e-04 - 20s/epoch - 170ms/step\n",
      "Epoch 48/50\n",
      "115/115 - 19s - loss: 4.9498e-04 - 19s/epoch - 165ms/step\n",
      "Epoch 49/50\n",
      "115/115 - 20s - loss: 5.2512e-04 - 20s/epoch - 172ms/step\n",
      "Epoch 50/50\n",
      "115/115 - 20s - loss: 4.4951e-04 - 20s/epoch - 174ms/step\n"
     ]
    }
   ],
   "source": [
    "hist=model.fit(X_train,y_train,epochs=50,batch_size=32,verbose=2)"
   ]
  },
  {
   "cell_type": "code",
   "execution_count": 19,
   "id": "a50d86ee",
   "metadata": {},
   "outputs": [
    {
     "data": {
      "image/png": "[encoded data removed]",
      "text/plain": [
       "<Figure size 576x360 with 1 Axes>"
      ]
     },
     "metadata": {
      "needs_background": "light"
     },
     "output_type": "display_data"
    }
   ],
   "source": [
    "plt.plot(hist.history['loss'])\n",
    "plt.title('training model loss')\n",
    "plt.rcParams[\"figure.figsize\"]=(8,5)\n",
    "plt.ylabel('loss')\n",
    "plt.xlabel('epoch')\n",
    "plt.legend(['train'],loc='upper left')\n",
    "plt.show()"
   ]
  },
  {
   "cell_type": "code",
   "execution_count": 22,
   "id": "3493f9d3",
   "metadata": {},
   "outputs": [
    {
     "name": "stdout",
     "output_type": "stream",
     "text": [
      "Epoch 1/50\n",
      "115/115 [==============================] - 17s 149ms/step - loss: 5.1663e-04\n",
      "Epoch 2/50\n",
      "115/115 [==============================] - 17s 151ms/step - loss: 4.5847e-04\n"
     ]
    }
   ],
   "source": [
    "hist=model.fit(X_train,y_train,epochs=50,callbacks=EarlyStopping(monitor='loss'))"
   ]
  },
  {
   "cell_type": "code",
   "execution_count": 23,
   "id": "26745301",
   "metadata": {},
   "outputs": [
    {
     "data": {
      "image/png": "[encoded data removed]",
      "text/plain": [
       "<Figure size 576x360 with 1 Axes>"
      ]
     },
     "metadata": {
      "needs_background": "light"
     },
     "output_type": "display_data"
    }
   ],
   "source": [
    "plt.plot(hist.history['loss'])\n",
    "plt.title('training model loss')\n",
    "plt.rcParams[\"figure.figsize\"]=(8,5)\n",
    "plt.ylabel('loss')\n",
    "plt.xlabel('epoch')\n",
    "plt.legend(['train'],loc='upper left')\n",
    "plt.show()"
   ]
  },
  {
   "cell_type": "code",
   "execution_count": null,
   "id": "199b758b",
   "metadata": {},
   "outputs": [],
   "source": []
  }
 ],
 "metadata": {
  "kernelspec": {
   "display_name": "Python 3 (ipykernel)",
   "language": "python",
   "name": "python3"
  },
  "language_info": {
   "codemirror_mode": {
    "name": "ipython",
    "version": 3
   },
   "file_extension": ".py",
   "mimetype": "text/x-python",
   "name": "python",
   "nbconvert_exporter": "python",
   "pygments_lexer": "ipython3",
   "version": "3.9.12"
  }
 },
 "nbformat": 4,
 "nbformat_minor": 5
}
